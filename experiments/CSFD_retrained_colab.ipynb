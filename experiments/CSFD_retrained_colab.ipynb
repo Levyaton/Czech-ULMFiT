{
  "nbformat": 4,
  "nbformat_minor": 0,
  "metadata": {
    "colab": {
      "name": "CSFD_retrained_colab.ipynb",
      "provenance": [],
      "collapsed_sections": [],
      "toc_visible": true,
      "mount_file_id": "1lzRI-LmLE6XJUh34ljWETRO0CNL7MeAh",
      "authorship_tag": "ABX9TyO27Drgsz4S34dckaNyFxMd",
      "include_colab_link": true
    },
    "kernelspec": {
      "name": "python3",
      "display_name": "Python 3"
    },
    "accelerator": "GPU"
  },
  "cells": [
    {
      "cell_type": "markdown",
      "metadata": {
        "id": "view-in-github",
        "colab_type": "text"
      },
      "source": [
        "<a href=\"https://colab.research.google.com/github/simecek/Czech-ULMFiT/blob/master/experiments/CSFD_retrained_colab.ipynb\" target=\"_parent\"><img src=\"https://colab.research.google.com/assets/colab-badge.svg\" alt=\"Open In Colab\"/></a>"
      ]
    },
    {
      "cell_type": "markdown",
      "metadata": {
        "id": "1wTU8o6mgc3-",
        "colab_type": "text"
      },
      "source": [
        "## Setup"
      ]
    },
    {
      "cell_type": "code",
      "metadata": {
        "id": "eVWjXBAM3xbC",
        "colab_type": "code",
        "colab": {
          "base_uri": "https://localhost:8080/",
          "height": 35
        },
        "outputId": "ab4254f0-edfb-4c19-a7d0-209b0725903f"
      },
      "source": [
        "!pip install sentencepiece"
      ],
      "execution_count": 12,
      "outputs": [
        {
          "output_type": "stream",
          "text": [
            "Requirement already satisfied: sentencepiece in /usr/local/lib/python3.6/dist-packages (0.1.91)\n"
          ],
          "name": "stdout"
        }
      ]
    },
    {
      "cell_type": "code",
      "metadata": {
        "id": "vdqXTr-b1UmX",
        "colab_type": "code",
        "colab": {}
      },
      "source": [
        "import pandas as pd\n",
        "\n",
        "from fastai import *\n",
        "from fastai.text import *"
      ],
      "execution_count": 13,
      "outputs": []
    },
    {
      "cell_type": "code",
      "metadata": {
        "id": "07VnMspG1b7F",
        "colab_type": "code",
        "colab": {
          "base_uri": "https://localhost:8080/",
          "height": 35
        },
        "outputId": "fe3f1dff-abc7-4674-d76e-fd85af5b1048"
      },
      "source": [
        "# GPU test\n",
        "import torch\n",
        "#torch.cuda.current_device()\n",
        "#torch.cuda.device(0)\n",
        "#torch.cuda.device_count()\n",
        "torch.cuda.get_device_name(0)"
      ],
      "execution_count": 14,
      "outputs": [
        {
          "output_type": "execute_result",
          "data": {
            "application/vnd.google.colaboratory.intrinsic": {
              "type": "string"
            },
            "text/plain": [
              "'Tesla P100-PCIE-16GB'"
            ]
          },
          "metadata": {
            "tags": []
          },
          "execution_count": 14
        }
      ]
    },
    {
      "cell_type": "code",
      "metadata": {
        "id": "toUmyuEb1s5u",
        "colab_type": "code",
        "colab": {
          "base_uri": "https://localhost:8080/",
          "height": 381
        },
        "outputId": "cef0ca97-e4ef-4e8a-8c61-2d421ffaf607"
      },
      "source": [
        "!wget http://liks.fav.zcu.cz/sentiment/csfd.zip\n",
        "!unzip csfd.zip\n",
        "!ls csfd/*.txt"
      ],
      "execution_count": 15,
      "outputs": [
        {
          "output_type": "stream",
          "text": [
            "--2020-07-13 15:16:38--  http://liks.fav.zcu.cz/sentiment/csfd.zip\n",
            "Resolving liks.fav.zcu.cz (liks.fav.zcu.cz)... 147.228.63.169\n",
            "Connecting to liks.fav.zcu.cz (liks.fav.zcu.cz)|147.228.63.169|:80... connected.\n",
            "HTTP request sent, awaiting response... 200 OK\n",
            "Length: 13734596 (13M) [application/zip]\n",
            "Saving to: ‘csfd.zip.1’\n",
            "\n",
            "\rcsfd.zip.1            0%[                    ]       0  --.-KB/s               \rcsfd.zip.1           29%[====>               ]   3.82M  18.9MB/s               \rcsfd.zip.1           98%[==================> ]  12.91M  31.9MB/s               \rcsfd.zip.1          100%[===================>]  13.10M  32.0MB/s    in 0.4s    \n",
            "\n",
            "2020-07-13 15:16:39 (32.0 MB/s) - ‘csfd.zip.1’ saved [13734596/13734596]\n",
            "\n",
            "Archive:  csfd.zip\n",
            "replace csfd/licence.txt? [y]es, [n]o, [A]ll, [N]one, [r]ename: a\n",
            "error:  invalid response [a]\n",
            "replace csfd/licence.txt? [y]es, [n]o, [A]ll, [N]one, [r]ename: A\n",
            "  inflating: csfd/licence.txt        \n",
            "  inflating: csfd/negative.txt       \n",
            "  inflating: csfd/neutral.txt        \n",
            "  inflating: csfd/positive.txt       \n",
            "csfd/licence.txt  csfd/negative.txt  csfd/neutral.txt  csfd/positive.txt\n"
          ],
          "name": "stdout"
        }
      ]
    },
    {
      "cell_type": "code",
      "metadata": {
        "id": "HL6uUxAO4D4m",
        "colab_type": "code",
        "colab": {
          "base_uri": "https://localhost:8080/",
          "height": 435
        },
        "outputId": "b6d002bc-7709-4520-ed38-b640cae9ed78"
      },
      "source": [
        "!mkdir models\n",
        "# you can download cs_wt.pth & cs_wt_vocab.pkl from\n",
        "# https://drive.google.com/open?id=14b5x5r3x5MeZNZ8Uc4L3ZmiHAiDgKNj2\n",
        "# https://drive.google.com/open?id=1NZym3XfEWAGJ7L3O56Zk2er6bwjKdJGe\n",
        "!cp \"/content/drive/My Drive/ULMFit-Czech/cs_wt.pth\" models/\n",
        "!cp \"/content/drive/My Drive/ULMFit-Czech/cs_wt_vocab.pkl\" models/\n",
        "!mkdir tmp\n",
        "!wget https://raw.githubusercontent.com/simecek/Czech-ULMFiT/master/language_model/spm.model\n",
        "!wget https://raw.githubusercontent.com/simecek/Czech-ULMFiT/master/language_model/spm.vocab \n",
        "!mv spm* tmp/"
      ],
      "execution_count": 16,
      "outputs": [
        {
          "output_type": "stream",
          "text": [
            "mkdir: cannot create directory ‘tmp’: File exists\n",
            "--2020-07-13 15:19:21--  https://raw.githubusercontent.com/simecek/Czech-ULMFiT/master/language_model/spm.model\n",
            "Resolving raw.githubusercontent.com (raw.githubusercontent.com)... 151.101.0.133, 151.101.64.133, 151.101.128.133, ...\n",
            "Connecting to raw.githubusercontent.com (raw.githubusercontent.com)|151.101.0.133|:443... connected.\n",
            "HTTP request sent, awaiting response... 200 OK\n",
            "Length: 779876 (762K) [application/octet-stream]\n",
            "Saving to: ‘spm.model’\n",
            "\n",
            "spm.model           100%[===================>] 761.60K  --.-KB/s    in 0.05s   \n",
            "\n",
            "2020-07-13 15:19:21 (15.7 MB/s) - ‘spm.model’ saved [779876/779876]\n",
            "\n",
            "--2020-07-13 15:19:23--  https://raw.githubusercontent.com/simecek/Czech-ULMFiT/master/language_model/spm.vocab\n",
            "Resolving raw.githubusercontent.com (raw.githubusercontent.com)... 151.101.0.133, 151.101.64.133, 151.101.128.133, ...\n",
            "Connecting to raw.githubusercontent.com (raw.githubusercontent.com)|151.101.0.133|:443... connected.\n",
            "HTTP request sent, awaiting response... 200 OK\n",
            "Length: 568615 (555K) [text/plain]\n",
            "Saving to: ‘spm.vocab’\n",
            "\n",
            "spm.vocab           100%[===================>] 555.29K  --.-KB/s    in 0.04s   \n",
            "\n",
            "2020-07-13 15:19:23 (13.6 MB/s) - ‘spm.vocab’ saved [568615/568615]\n",
            "\n"
          ],
          "name": "stdout"
        }
      ]
    },
    {
      "cell_type": "code",
      "metadata": {
        "id": "vGKQBbDW1unT",
        "colab_type": "code",
        "colab": {
          "base_uri": "https://localhost:8080/",
          "height": 198
        },
        "outputId": "ce05ab99-34a1-4efc-e1dc-b6fb2b5ccee9"
      },
      "source": [
        "path = Path(\".\")\n",
        "pos = (path/'csfd/positive.txt').open().readlines()\n",
        "pos_df = pd.DataFrame({'text':pos})\n",
        "pos_df['pos'] = 1\n",
        "pos_df.head()"
      ],
      "execution_count": 17,
      "outputs": [
        {
          "output_type": "execute_result",
          "data": {
            "text/html": [
              "<div>\n",
              "<style scoped>\n",
              "    .dataframe tbody tr th:only-of-type {\n",
              "        vertical-align: middle;\n",
              "    }\n",
              "\n",
              "    .dataframe tbody tr th {\n",
              "        vertical-align: top;\n",
              "    }\n",
              "\n",
              "    .dataframe thead th {\n",
              "        text-align: right;\n",
              "    }\n",
              "</style>\n",
              "<table border=\"1\" class=\"dataframe\">\n",
              "  <thead>\n",
              "    <tr style=\"text-align: right;\">\n",
              "      <th></th>\n",
              "      <th>text</th>\n",
              "      <th>pos</th>\n",
              "    </tr>\n",
              "  </thead>\n",
              "  <tbody>\n",
              "    <tr>\n",
              "      <th>0</th>\n",
              "      <td>Jako se mě líbila stejně jako jednička. Má sic...</td>\n",
              "      <td>1</td>\n",
              "    </tr>\n",
              "    <tr>\n",
              "      <th>1</th>\n",
              "      <td>Sice se rika ze dvojky pokulhavaji za jednicko...</td>\n",
              "      <td>1</td>\n",
              "    </tr>\n",
              "    <tr>\n",
              "      <th>2</th>\n",
              "      <td>Tenhle film můžu opravdu kdykoliv. A to nejen ...</td>\n",
              "      <td>1</td>\n",
              "    </tr>\n",
              "    <tr>\n",
              "      <th>3</th>\n",
              "      <td>velice povedená krimikomedie s plejádou skvělý...</td>\n",
              "      <td>1</td>\n",
              "    </tr>\n",
              "    <tr>\n",
              "      <th>4</th>\n",
              "      <td>Rok 1969. Při výročí invaze střílejí do lidí č...</td>\n",
              "      <td>1</td>\n",
              "    </tr>\n",
              "  </tbody>\n",
              "</table>\n",
              "</div>"
            ],
            "text/plain": [
              "                                                text  pos\n",
              "0  Jako se mě líbila stejně jako jednička. Má sic...    1\n",
              "1  Sice se rika ze dvojky pokulhavaji za jednicko...    1\n",
              "2  Tenhle film můžu opravdu kdykoliv. A to nejen ...    1\n",
              "3  velice povedená krimikomedie s plejádou skvělý...    1\n",
              "4  Rok 1969. Při výročí invaze střílejí do lidí č...    1"
            ]
          },
          "metadata": {
            "tags": []
          },
          "execution_count": 17
        }
      ]
    },
    {
      "cell_type": "code",
      "metadata": {
        "id": "EL3J_FLN3CSX",
        "colab_type": "code",
        "colab": {
          "base_uri": "https://localhost:8080/",
          "height": 198
        },
        "outputId": "13560f2c-7e9c-4ebf-a154-2e2c70e505bb"
      },
      "source": [
        "neg = (path/'csfd/negative.txt').open().readlines()\n",
        "neg_df = pd.DataFrame({'text':neg})\n",
        "neg_df['pos'] = 0\n",
        "neg_df.head()"
      ],
      "execution_count": 18,
      "outputs": [
        {
          "output_type": "execute_result",
          "data": {
            "text/html": [
              "<div>\n",
              "<style scoped>\n",
              "    .dataframe tbody tr th:only-of-type {\n",
              "        vertical-align: middle;\n",
              "    }\n",
              "\n",
              "    .dataframe tbody tr th {\n",
              "        vertical-align: top;\n",
              "    }\n",
              "\n",
              "    .dataframe thead th {\n",
              "        text-align: right;\n",
              "    }\n",
              "</style>\n",
              "<table border=\"1\" class=\"dataframe\">\n",
              "  <thead>\n",
              "    <tr style=\"text-align: right;\">\n",
              "      <th></th>\n",
              "      <th>text</th>\n",
              "      <th>pos</th>\n",
              "    </tr>\n",
              "  </thead>\n",
              "  <tbody>\n",
              "    <tr>\n",
              "      <th>0</th>\n",
              "      <td>Tommy Lee Jonesovi jsou role jako je tato šity...</td>\n",
              "      <td>0</td>\n",
              "    </tr>\n",
              "    <tr>\n",
              "      <th>1</th>\n",
              "      <td>se stejnou upřímností a váhou jako je Pravdivá...</td>\n",
              "      <td>0</td>\n",
              "    </tr>\n",
              "    <tr>\n",
              "      <th>2</th>\n",
              "      <td>Fakt blbost. 1. díl byl ucházející a dalo se n...</td>\n",
              "      <td>0</td>\n",
              "    </tr>\n",
              "    <tr>\n",
              "      <th>3</th>\n",
              "      <td>Jako mladíkovi uprostřed normalizačních sedmde...</td>\n",
              "      <td>0</td>\n",
              "    </tr>\n",
              "    <tr>\n",
              "      <th>4</th>\n",
              "      <td>...aneb proč neudělat ze Tří mušketyrů sci-fi....</td>\n",
              "      <td>0</td>\n",
              "    </tr>\n",
              "  </tbody>\n",
              "</table>\n",
              "</div>"
            ],
            "text/plain": [
              "                                                text  pos\n",
              "0  Tommy Lee Jonesovi jsou role jako je tato šity...    0\n",
              "1  se stejnou upřímností a váhou jako je Pravdivá...    0\n",
              "2  Fakt blbost. 1. díl byl ucházející a dalo se n...    0\n",
              "3  Jako mladíkovi uprostřed normalizačních sedmde...    0\n",
              "4  ...aneb proč neudělat ze Tří mušketyrů sci-fi....    0"
            ]
          },
          "metadata": {
            "tags": []
          },
          "execution_count": 18
        }
      ]
    },
    {
      "cell_type": "code",
      "metadata": {
        "id": "dslwg17T3VjI",
        "colab_type": "code",
        "colab": {}
      },
      "source": [
        "df = pd.concat([pos_df,neg_df], sort=False)"
      ],
      "execution_count": 19,
      "outputs": []
    },
    {
      "cell_type": "markdown",
      "metadata": {
        "id": "7v4-ZTRVgnsH",
        "colab_type": "text"
      },
      "source": [
        "## Finetuning"
      ]
    },
    {
      "cell_type": "code",
      "metadata": {
        "id": "Nmp6Lr4B3bT8",
        "colab_type": "code",
        "colab": {
          "base_uri": "https://localhost:8080/",
          "height": 17
        },
        "outputId": "3b9d95b0-917b-48a4-dd6d-44c763248192"
      },
      "source": [
        "bs=64\n",
        "data_lm = (TextList.from_df(df, path, cols='text', processor=SPProcessor.load(\".\"))\n",
        "    .split_by_rand_pct(0.1, seed=42)\n",
        "    .label_for_lm()           \n",
        "    .databunch(bs=bs, num_workers=1))\n",
        "data_lm.save('cs_clas_databunch')"
      ],
      "execution_count": 27,
      "outputs": [
        {
          "output_type": "display_data",
          "data": {
            "text/html": [
              ""
            ],
            "text/plain": [
              "<IPython.core.display.HTML object>"
            ]
          },
          "metadata": {
            "tags": []
          }
        },
        {
          "output_type": "display_data",
          "data": {
            "text/html": [
              ""
            ],
            "text/plain": [
              "<IPython.core.display.HTML object>"
            ]
          },
          "metadata": {
            "tags": []
          }
        }
      ]
    },
    {
      "cell_type": "code",
      "metadata": {
        "id": "RLqdiCby3oEb",
        "colab_type": "code",
        "colab": {
          "base_uri": "https://localhost:8080/",
          "height": 302
        },
        "outputId": "0693de0e-d3d6-49d2-9516-bd1a87550688"
      },
      "source": [
        "data_lm = load_data(path, 'cs_clas_databunch', bs=bs)\n",
        "data_lm.show_batch()"
      ],
      "execution_count": 28,
      "outputs": [
        {
          "output_type": "display_data",
          "data": {
            "text/html": [
              "<table border=\"1\" class=\"dataframe\">\n",
              "  <thead>\n",
              "    <tr style=\"text-align: right;\">\n",
              "      <th>idx</th>\n",
              "      <th>text</th>\n",
              "    </tr>\n",
              "  </thead>\n",
              "  <tbody>\n",
              "    <tr>\n",
              "      <td>0</td>\n",
              "      <td>o . ▁a ▁o pet ▁nez klam ala ▁ perfekt ni ▁ muzik a ! ! ! ▁xxbos ▁xxmaj ▁ten hle ▁film ▁ m ů ž u ▁opravdu ▁kdykoliv . ▁a ▁to ▁nejen ▁díky ▁par fek tní mu , ▁ hlá ška mi ▁na bit ému ▁scénář i ▁a ▁herecký m ▁výkonů m ▁všech ▁z ů čas t ně ných ▁( hlavně ▁pak ▁trojice ▁xxmaj ▁troj an , ▁xxmaj ▁mit</td>\n",
              "    </tr>\n",
              "    <tr>\n",
              "      <td>1</td>\n",
              "      <td>. ▁xxbos ▁ špi čkový ▁komerční ▁ válečný ▁seriál , ▁který ▁mě ▁do ▁druhé ▁světové ▁války ▁v táhl ▁snad ▁nejlépe ▁ze ▁všech ▁filmů ▁i ▁seriál ů ▁vůbec . ▁xxmaj ▁osudy ▁dotyčný ch ▁vojáků ▁se ▁nevy poč it atel ně ▁kříží , ▁až ▁to ▁ve ▁ m ne ▁mnohdy ▁vyvolá valo ▁deprese ▁a ▁pocity ▁úzkost i . ▁xxmaj ▁všechny ▁příběhy , ▁zřejmě ▁měly ▁vz bud it ▁v ▁di vá cích ▁odraz</td>\n",
              "    </tr>\n",
              "    <tr>\n",
              "      <td>2</td>\n",
              "      <td>. . ▁xxbos ▁xxmaj ▁za ▁socialistické ho ▁xxmaj ▁československa ▁u ▁nás ▁běžel ▁tento ▁film ▁s ▁názvem ▁\" smrt ▁xxmaj ▁jo a ▁xxmaj ▁indián a \" ▁a ▁jako ▁deseti leté mu ▁kluk ovi ▁se ▁ mi ▁to ▁moc ▁líbil o . ▁xxmaj ▁je ▁to ▁vlastně ▁3. ▁díl ▁čtyř dílné ▁televizní ▁série ▁http : ▁/ ▁/ ▁www . ama zon . de ▁/ ▁ saw y ers - hu c kle berry</td>\n",
              "    </tr>\n",
              "    <tr>\n",
              "      <td>3</td>\n",
              "      <td>▁mc cl a ne ▁na ▁letišti ▁ve ▁xxmaj ▁washingtonu ▁čeká ▁na ▁svou ▁manželku . ▁xxmaj ▁nezná m ▁lepší ▁způsob ▁jak ▁s tráv it ▁to hle ▁par né ▁letní ▁odpoledne ▁(12 . 7. 200 6, ▁teplota ▁xxup ▁32 ` c ▁ve ▁stínu ) ▁než ▁ve ▁společnosti ▁xxmaj ▁johna ▁a ▁všeho schop ných ▁terorist ů . ▁xxmaj ▁bruce ▁xxmaj ▁will is ▁je ▁jako ▁mc cl a ne ▁prostě ▁bez c hyb ný</td>\n",
              "    </tr>\n",
              "    <tr>\n",
              "      <td>4</td>\n",
              "      <td>▁s ▁\" to o - big - to - fa il \" ▁banka mi ▁není ▁úplně ▁tak ▁od ▁věci ▁mys let ▁si , ▁že ▁je ▁možné ▁aby ▁nějaký ▁pri vat e ▁ e quit y ▁f und ▁měl ▁svojí ▁velikostí ▁ ambi ci ▁ovládat ▁svět ▁a ▁opravdu ▁tak ▁či nit . ▁xxmaj ▁někomu ▁může ▁v a dit ▁dlouhá ▁stop áž ▁a ▁ne - ma in stream ové ▁režisér ské ▁pojetí</td>\n",
              "    </tr>\n",
              "  </tbody>\n",
              "</table>"
            ],
            "text/plain": [
              "<IPython.core.display.HTML object>"
            ]
          },
          "metadata": {
            "tags": []
          }
        }
      ]
    },
    {
      "cell_type": "code",
      "metadata": {
        "id": "UNUm7YWn6QJQ",
        "colab_type": "code",
        "colab": {}
      },
      "source": [
        "lm_fns = ['./cs_wt', './cs_wt_vocab']\n",
        "learn_lm = language_model_learner(data_lm, AWD_LSTM, pretrained_fnames=lm_fns, drop_mult=1.0, wd=0.1)"
      ],
      "execution_count": 29,
      "outputs": []
    },
    {
      "cell_type": "code",
      "metadata": {
        "id": "oCyNqRUsPFUI",
        "colab_type": "code",
        "colab": {}
      },
      "source": [
        "#learn_lm.predict(\"Brno je krásné\", n_words=10, temperature=0.1)"
      ],
      "execution_count": 30,
      "outputs": []
    },
    {
      "cell_type": "code",
      "metadata": {
        "id": "lqtx_EPEaN4_",
        "colab_type": "code",
        "colab": {}
      },
      "source": [
        "lr = 1e-3\n",
        "lr *= bs/48"
      ],
      "execution_count": 31,
      "outputs": []
    },
    {
      "cell_type": "code",
      "metadata": {
        "id": "5lFy3-8n6uW6",
        "colab_type": "code",
        "colab": {
          "base_uri": "https://localhost:8080/",
          "height": 78
        },
        "outputId": "8fcb0e29-98b5-4750-9abf-9b850fe82ab0"
      },
      "source": [
        "learn_lm.fit_one_cycle(1, lr*10, moms=(0.8,0.7))"
      ],
      "execution_count": 32,
      "outputs": [
        {
          "output_type": "display_data",
          "data": {
            "text/html": [
              "<table border=\"1\" class=\"dataframe\">\n",
              "  <thead>\n",
              "    <tr style=\"text-align: left;\">\n",
              "      <th>epoch</th>\n",
              "      <th>train_loss</th>\n",
              "      <th>valid_loss</th>\n",
              "      <th>accuracy</th>\n",
              "      <th>time</th>\n",
              "    </tr>\n",
              "  </thead>\n",
              "  <tbody>\n",
              "    <tr>\n",
              "      <td>0</td>\n",
              "      <td>4.535591</td>\n",
              "      <td>4.167027</td>\n",
              "      <td>0.293437</td>\n",
              "      <td>03:00</td>\n",
              "    </tr>\n",
              "  </tbody>\n",
              "</table>"
            ],
            "text/plain": [
              "<IPython.core.display.HTML object>"
            ]
          },
          "metadata": {
            "tags": []
          }
        }
      ]
    },
    {
      "cell_type": "code",
      "metadata": {
        "id": "3Ljbf2Z7QCu0",
        "colab_type": "code",
        "colab": {
          "base_uri": "https://localhost:8080/",
          "height": 198
        },
        "outputId": "cbaaff29-6ed6-4280-a782-d49c4de3597c"
      },
      "source": [
        "learn_lm.unfreeze()\n",
        "learn_lm.fit_one_cycle(5, slice(lr/10,lr*10), moms=(0.8,0.7))"
      ],
      "execution_count": 33,
      "outputs": [
        {
          "output_type": "display_data",
          "data": {
            "text/html": [
              "<table border=\"1\" class=\"dataframe\">\n",
              "  <thead>\n",
              "    <tr style=\"text-align: left;\">\n",
              "      <th>epoch</th>\n",
              "      <th>train_loss</th>\n",
              "      <th>valid_loss</th>\n",
              "      <th>accuracy</th>\n",
              "      <th>time</th>\n",
              "    </tr>\n",
              "  </thead>\n",
              "  <tbody>\n",
              "    <tr>\n",
              "      <td>0</td>\n",
              "      <td>4.373417</td>\n",
              "      <td>4.119069</td>\n",
              "      <td>0.299663</td>\n",
              "      <td>03:32</td>\n",
              "    </tr>\n",
              "    <tr>\n",
              "      <td>1</td>\n",
              "      <td>4.268265</td>\n",
              "      <td>4.052626</td>\n",
              "      <td>0.308735</td>\n",
              "      <td>03:32</td>\n",
              "    </tr>\n",
              "    <tr>\n",
              "      <td>2</td>\n",
              "      <td>4.126018</td>\n",
              "      <td>3.925334</td>\n",
              "      <td>0.323229</td>\n",
              "      <td>03:32</td>\n",
              "    </tr>\n",
              "    <tr>\n",
              "      <td>3</td>\n",
              "      <td>3.974118</td>\n",
              "      <td>3.802379</td>\n",
              "      <td>0.336873</td>\n",
              "      <td>03:32</td>\n",
              "    </tr>\n",
              "    <tr>\n",
              "      <td>4</td>\n",
              "      <td>3.808831</td>\n",
              "      <td>3.764915</td>\n",
              "      <td>0.340994</td>\n",
              "      <td>03:32</td>\n",
              "    </tr>\n",
              "  </tbody>\n",
              "</table>"
            ],
            "text/plain": [
              "<IPython.core.display.HTML object>"
            ]
          },
          "metadata": {
            "tags": []
          }
        }
      ]
    },
    {
      "cell_type": "code",
      "metadata": {
        "id": "3hsmnAcjRTi5",
        "colab_type": "code",
        "colab": {}
      },
      "source": [
        "lang = \"cs\"\n",
        "learn_lm.save(f'{lang}_csfd_2classes_fine_tuned')\n",
        "learn_lm.save_encoder(f'{lang}_csfd_2classes_fine_tuned_enc')"
      ],
      "execution_count": 34,
      "outputs": []
    },
    {
      "cell_type": "markdown",
      "metadata": {
        "id": "K4YmDcjogXMK",
        "colab_type": "text"
      },
      "source": [
        "## Classifier"
      ]
    },
    {
      "cell_type": "code",
      "metadata": {
        "id": "rvK4ld4ITgT2",
        "colab_type": "code",
        "colab": {
          "base_uri": "https://localhost:8080/",
          "height": 17
        },
        "outputId": "f01cc69a-e429-422b-9730-b72f4b8e30d9"
      },
      "source": [
        "path_clas = path/'csfd'\n",
        "bs=64\n",
        "\n",
        "data_clas = (TextList.from_df(df, path, cols='text', processor=SPProcessor.load(\".\"))\n",
        "    .split_by_rand_pct(0.1, seed=42)\n",
        "    .label_from_df(cols='pos')\n",
        "    .databunch(bs=bs, num_workers=1))"
      ],
      "execution_count": 35,
      "outputs": [
        {
          "output_type": "display_data",
          "data": {
            "text/html": [
              ""
            ],
            "text/plain": [
              "<IPython.core.display.HTML object>"
            ]
          },
          "metadata": {
            "tags": []
          }
        },
        {
          "output_type": "display_data",
          "data": {
            "text/html": [
              ""
            ],
            "text/plain": [
              "<IPython.core.display.HTML object>"
            ]
          },
          "metadata": {
            "tags": []
          }
        }
      ]
    },
    {
      "cell_type": "code",
      "metadata": {
        "id": "3nL3hrCiToSV",
        "colab_type": "code",
        "colab": {}
      },
      "source": [
        "learn_c = text_classifier_learner(data_clas, AWD_LSTM, drop_mult=0.5, pretrained=False, wd=0.1).to_fp16()\n",
        "learn_c.load_encoder(f'{lang}_csfd_2classes_fine_tuned_enc')\n",
        "learn_c.freeze()"
      ],
      "execution_count": 36,
      "outputs": []
    },
    {
      "cell_type": "code",
      "metadata": {
        "id": "mtOfZ5I5Ts7A",
        "colab_type": "code",
        "colab": {}
      },
      "source": [
        "lr = 2e-2\n",
        "lr *= bs/48"
      ],
      "execution_count": 37,
      "outputs": []
    },
    {
      "cell_type": "code",
      "metadata": {
        "id": "CDr7646gT3oA",
        "colab_type": "code",
        "colab": {
          "base_uri": "https://localhost:8080/",
          "height": 138
        },
        "outputId": "41348ca5-171c-4b38-f514-f3c91c85388b"
      },
      "source": [
        "learn_c.fit_one_cycle(3, lr, moms=(0.8,0.7))"
      ],
      "execution_count": 38,
      "outputs": [
        {
          "output_type": "display_data",
          "data": {
            "text/html": [
              "<table border=\"1\" class=\"dataframe\">\n",
              "  <thead>\n",
              "    <tr style=\"text-align: left;\">\n",
              "      <th>epoch</th>\n",
              "      <th>train_loss</th>\n",
              "      <th>valid_loss</th>\n",
              "      <th>accuracy</th>\n",
              "      <th>time</th>\n",
              "    </tr>\n",
              "  </thead>\n",
              "  <tbody>\n",
              "    <tr>\n",
              "      <td>0</td>\n",
              "      <td>0.291546</td>\n",
              "      <td>0.242145</td>\n",
              "      <td>0.911236</td>\n",
              "      <td>01:13</td>\n",
              "    </tr>\n",
              "    <tr>\n",
              "      <td>1</td>\n",
              "      <td>0.285793</td>\n",
              "      <td>0.231189</td>\n",
              "      <td>0.907606</td>\n",
              "      <td>01:03</td>\n",
              "    </tr>\n",
              "    <tr>\n",
              "      <td>2</td>\n",
              "      <td>0.275174</td>\n",
              "      <td>0.219136</td>\n",
              "      <td>0.913381</td>\n",
              "      <td>01:09</td>\n",
              "    </tr>\n",
              "  </tbody>\n",
              "</table>"
            ],
            "text/plain": [
              "<IPython.core.display.HTML object>"
            ]
          },
          "metadata": {
            "tags": []
          }
        }
      ]
    },
    {
      "cell_type": "code",
      "metadata": {
        "id": "WEk8lVXtT9hQ",
        "colab_type": "code",
        "colab": {
          "base_uri": "https://localhost:8080/",
          "height": 138
        },
        "outputId": "8276df65-be82-4c6f-8049-792a3b585b57"
      },
      "source": [
        "import warnings\n",
        "\n",
        "learn_c.freeze_to(-2)\n",
        "\n",
        "with warnings.catch_warnings(record=True):\n",
        "  learn_c.fit_one_cycle(3, slice(lr/2/(2.6**4),lr/2), moms=(0.8,0.7))"
      ],
      "execution_count": 39,
      "outputs": [
        {
          "output_type": "display_data",
          "data": {
            "text/html": [
              "<table border=\"1\" class=\"dataframe\">\n",
              "  <thead>\n",
              "    <tr style=\"text-align: left;\">\n",
              "      <th>epoch</th>\n",
              "      <th>train_loss</th>\n",
              "      <th>valid_loss</th>\n",
              "      <th>accuracy</th>\n",
              "      <th>time</th>\n",
              "    </tr>\n",
              "  </thead>\n",
              "  <tbody>\n",
              "    <tr>\n",
              "      <td>0</td>\n",
              "      <td>0.243186</td>\n",
              "      <td>0.200872</td>\n",
              "      <td>0.922785</td>\n",
              "      <td>01:26</td>\n",
              "    </tr>\n",
              "    <tr>\n",
              "      <td>1</td>\n",
              "      <td>0.212159</td>\n",
              "      <td>0.172906</td>\n",
              "      <td>0.929880</td>\n",
              "      <td>01:18</td>\n",
              "    </tr>\n",
              "    <tr>\n",
              "      <td>2</td>\n",
              "      <td>0.170817</td>\n",
              "      <td>0.170582</td>\n",
              "      <td>0.933344</td>\n",
              "      <td>01:17</td>\n",
              "    </tr>\n",
              "  </tbody>\n",
              "</table>"
            ],
            "text/plain": [
              "<IPython.core.display.HTML object>"
            ]
          },
          "metadata": {
            "tags": []
          }
        }
      ]
    },
    {
      "cell_type": "code",
      "metadata": {
        "id": "zrqsfIzzT_kg",
        "colab_type": "code",
        "colab": {
          "base_uri": "https://localhost:8080/",
          "height": 138
        },
        "outputId": "6067bcfb-92f4-400e-93e7-58e7d46a86f0"
      },
      "source": [
        "learn_c.freeze_to(-3)\n",
        "\n",
        "with warnings.catch_warnings(record=True):\n",
        "  learn_c.fit_one_cycle(3, slice(lr/4/(2.6**4),lr/4), moms=(0.8,0.7))"
      ],
      "execution_count": 40,
      "outputs": [
        {
          "output_type": "display_data",
          "data": {
            "text/html": [
              "<table border=\"1\" class=\"dataframe\">\n",
              "  <thead>\n",
              "    <tr style=\"text-align: left;\">\n",
              "      <th>epoch</th>\n",
              "      <th>train_loss</th>\n",
              "      <th>valid_loss</th>\n",
              "      <th>accuracy</th>\n",
              "      <th>time</th>\n",
              "    </tr>\n",
              "  </thead>\n",
              "  <tbody>\n",
              "    <tr>\n",
              "      <td>0</td>\n",
              "      <td>0.200902</td>\n",
              "      <td>0.244145</td>\n",
              "      <td>0.895067</td>\n",
              "      <td>02:00</td>\n",
              "    </tr>\n",
              "    <tr>\n",
              "      <td>1</td>\n",
              "      <td>0.158207</td>\n",
              "      <td>0.149416</td>\n",
              "      <td>0.940934</td>\n",
              "      <td>02:23</td>\n",
              "    </tr>\n",
              "    <tr>\n",
              "      <td>2</td>\n",
              "      <td>0.090247</td>\n",
              "      <td>0.152614</td>\n",
              "      <td>0.944069</td>\n",
              "      <td>02:29</td>\n",
              "    </tr>\n",
              "  </tbody>\n",
              "</table>"
            ],
            "text/plain": [
              "<IPython.core.display.HTML object>"
            ]
          },
          "metadata": {
            "tags": []
          }
        }
      ]
    },
    {
      "cell_type": "code",
      "metadata": {
        "id": "98qvtv756_45",
        "colab_type": "code",
        "colab": {}
      },
      "source": [
        "learn_c.save('/content/drive/My Drive/ULMFit-Czech/cs_csfd_2classes_944')\n",
        "learn_c.export('/content/drive/My Drive/ULMFit-Czech/cs_csfd_2classes_944.pkl')"
      ],
      "execution_count": 41,
      "outputs": []
    },
    {
      "cell_type": "code",
      "metadata": {
        "id": "gqsx_8qO7Ixe",
        "colab_type": "code",
        "colab": {
          "base_uri": "https://localhost:8080/",
          "height": 138
        },
        "outputId": "1126e50f-fc97-4c89-986e-8f313014a025"
      },
      "source": [
        "learn_c.unfreeze()\n",
        "\n",
        "with warnings.catch_warnings(record=True):\n",
        "  learn_c.fit_one_cycle(3, slice(lr/40/(2.6**4),lr/40), moms=(0.8,0.7))"
      ],
      "execution_count": 43,
      "outputs": [
        {
          "output_type": "display_data",
          "data": {
            "text/html": [
              "<table border=\"1\" class=\"dataframe\">\n",
              "  <thead>\n",
              "    <tr style=\"text-align: left;\">\n",
              "      <th>epoch</th>\n",
              "      <th>train_loss</th>\n",
              "      <th>valid_loss</th>\n",
              "      <th>accuracy</th>\n",
              "      <th>time</th>\n",
              "    </tr>\n",
              "  </thead>\n",
              "  <tbody>\n",
              "    <tr>\n",
              "      <td>0</td>\n",
              "      <td>0.079484</td>\n",
              "      <td>0.160238</td>\n",
              "      <td>0.946048</td>\n",
              "      <td>03:06</td>\n",
              "    </tr>\n",
              "    <tr>\n",
              "      <td>1</td>\n",
              "      <td>0.059265</td>\n",
              "      <td>0.172276</td>\n",
              "      <td>0.944729</td>\n",
              "      <td>02:34</td>\n",
              "    </tr>\n",
              "    <tr>\n",
              "      <td>2</td>\n",
              "      <td>0.046824</td>\n",
              "      <td>0.175459</td>\n",
              "      <td>0.946048</td>\n",
              "      <td>03:06</td>\n",
              "    </tr>\n",
              "  </tbody>\n",
              "</table>"
            ],
            "text/plain": [
              "<IPython.core.display.HTML object>"
            ]
          },
          "metadata": {
            "tags": []
          }
        }
      ]
    },
    {
      "cell_type": "code",
      "metadata": {
        "id": "YeHPW6if7ucJ",
        "colab_type": "code",
        "colab": {}
      },
      "source": [
        "learn_c.save('/content/drive/My Drive/ULMFit-Czech/cs_csfd_2classes_overfitted_946')\n",
        "learn_c.export('/content/drive/My Drive/ULMFit-Czech/cs_csfd_2classes_overfitted_946.pkl')"
      ],
      "execution_count": 44,
      "outputs": []
    },
    {
      "cell_type": "code",
      "metadata": {
        "id": "V05U-xVr91Jt",
        "colab_type": "code",
        "colab": {
          "base_uri": "https://localhost:8080/",
          "height": 72
        },
        "outputId": "c2357ba2-bc25-46c3-e94d-37fb18217c76"
      },
      "source": [
        "learn_c.predict(\"Film to byl otřesný\"), learn_c.predict(\"Nejlepší film mého života\"), learn_c.predict(\"Nejlepší film mého života to rozhodně nebyl\")"
      ],
      "execution_count": 47,
      "outputs": [
        {
          "output_type": "execute_result",
          "data": {
            "text/plain": [
              "((Category tensor(0), tensor(0), tensor([0.9462, 0.0538])),\n",
              " (Category tensor(1), tensor(1), tensor([1.0402e-11, 1.0000e+00])),\n",
              " (Category tensor(1), tensor(1), tensor([2.3638e-07, 1.0000e+00])))"
            ]
          },
          "metadata": {
            "tags": []
          },
          "execution_count": 47
        }
      ]
    }
  ]
}