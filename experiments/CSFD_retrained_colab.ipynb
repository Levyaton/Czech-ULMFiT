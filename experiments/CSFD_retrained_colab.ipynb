{
  "nbformat": 4,
  "nbformat_minor": 0,
  "metadata": {
    "colab": {
      "name": "CSFD_retrained_colab.ipynb",
      "provenance": [],
      "collapsed_sections": [
        "1wTU8o6mgc3-",
        "7v4-ZTRVgnsH"
      ],
      "toc_visible": true,
      "mount_file_id": "1FO8BGu8aHfYdW4AEgdro-8ERvogaSuXK",
      "authorship_tag": "ABX9TyOgj+j9RbFpPxnNnefOpEWA",
      "include_colab_link": true
    },
    "kernelspec": {
      "name": "python3",
      "display_name": "Python 3"
    },
    "accelerator": "GPU"
  },
  "cells": [
    {
      "cell_type": "markdown",
      "metadata": {
        "id": "view-in-github",
        "colab_type": "text"
      },
      "source": [
        "<a href=\"https://colab.research.google.com/github/simecek/Czech-ULMFiT/blob/master/experiments/CSFD_retrained_colab.ipynb\" target=\"_parent\"><img src=\"https://colab.research.google.com/assets/colab-badge.svg\" alt=\"Open In Colab\"/></a>"
      ]
    },
    {
      "cell_type": "markdown",
      "metadata": {
        "id": "1wTU8o6mgc3-",
        "colab_type": "text"
      },
      "source": [
        "## Setup"
      ]
    },
    {
      "cell_type": "code",
      "metadata": {
        "id": "eVWjXBAM3xbC",
        "colab_type": "code",
        "colab": {
          "base_uri": "https://localhost:8080/",
          "height": 35
        },
        "outputId": "d624133e-f706-49f0-f248-75350e64fb56"
      },
      "source": [
        "!pip install sentencepiece"
      ],
      "execution_count": null,
      "outputs": [
        {
          "output_type": "stream",
          "text": [
            "Requirement already satisfied: sentencepiece in /usr/local/lib/python3.6/dist-packages (0.1.91)\n"
          ],
          "name": "stdout"
        }
      ]
    },
    {
      "cell_type": "code",
      "metadata": {
        "id": "vdqXTr-b1UmX",
        "colab_type": "code",
        "colab": {}
      },
      "source": [
        "import pandas as pd\n",
        "\n",
        "from fastai import *\n",
        "from fastai.text import *"
      ],
      "execution_count": null,
      "outputs": []
    },
    {
      "cell_type": "code",
      "metadata": {
        "id": "07VnMspG1b7F",
        "colab_type": "code",
        "colab": {
          "base_uri": "https://localhost:8080/",
          "height": 35
        },
        "outputId": "cdd3378d-d4fa-4e5b-e5c8-c8e1d513243c"
      },
      "source": [
        "# GPU test\n",
        "import torch\n",
        "#torch.cuda.current_device()\n",
        "#torch.cuda.device(0)\n",
        "#torch.cuda.device_count()\n",
        "torch.cuda.get_device_name(0)"
      ],
      "execution_count": null,
      "outputs": [
        {
          "output_type": "execute_result",
          "data": {
            "application/vnd.google.colaboratory.intrinsic": {
              "type": "string"
            },
            "text/plain": [
              "'Tesla P100-PCIE-16GB'"
            ]
          },
          "metadata": {
            "tags": []
          },
          "execution_count": 4
        }
      ]
    },
    {
      "cell_type": "code",
      "metadata": {
        "id": "toUmyuEb1s5u",
        "colab_type": "code",
        "colab": {
          "base_uri": "https://localhost:8080/",
          "height": 345
        },
        "outputId": "30b05f8e-21c1-4108-b897-33304f9a60a6"
      },
      "source": [
        "!wget http://liks.fav.zcu.cz/sentiment/csfd.zip\n",
        "!unzip csfd.zip\n",
        "!ls csfd/*.txt"
      ],
      "execution_count": null,
      "outputs": [
        {
          "output_type": "stream",
          "text": [
            "--2020-07-13 15:48:26--  http://liks.fav.zcu.cz/sentiment/csfd.zip\n",
            "Resolving liks.fav.zcu.cz (liks.fav.zcu.cz)... 147.228.63.169\n",
            "Connecting to liks.fav.zcu.cz (liks.fav.zcu.cz)|147.228.63.169|:80... connected.\n",
            "HTTP request sent, awaiting response... 200 OK\n",
            "Length: 13734596 (13M) [application/zip]\n",
            "Saving to: ‘csfd.zip’\n",
            "\n",
            "csfd.zip            100%[===================>]  13.10M  7.91MB/s    in 1.7s    \n",
            "\n",
            "2020-07-13 15:48:28 (7.91 MB/s) - ‘csfd.zip’ saved [13734596/13734596]\n",
            "\n",
            "Archive:  csfd.zip\n",
            "   creating: csfd/\n",
            "  inflating: csfd/licence.txt        \n",
            "  inflating: csfd/negative.txt       \n",
            "  inflating: csfd/neutral.txt        \n",
            "  inflating: csfd/positive.txt       \n",
            "csfd/licence.txt  csfd/negative.txt  csfd/neutral.txt  csfd/positive.txt\n"
          ],
          "name": "stdout"
        }
      ]
    },
    {
      "cell_type": "code",
      "metadata": {
        "id": "HL6uUxAO4D4m",
        "colab_type": "code",
        "colab": {
          "base_uri": "https://localhost:8080/",
          "height": 417
        },
        "outputId": "2169be6e-6bf7-4628-84d3-389f17eff8d1"
      },
      "source": [
        "!mkdir models\n",
        "# you can download cs_wt.pth & cs_wt_vocab.pkl from\n",
        "# https://drive.google.com/open?id=14b5x5r3x5MeZNZ8Uc4L3ZmiHAiDgKNj2\n",
        "# https://drive.google.com/open?id=1NZym3XfEWAGJ7L3O56Zk2er6bwjKdJGe\n",
        "!cp \"/content/drive/My Drive/ULMFit-Czech/cs_wt.pth\" models/\n",
        "!cp \"/content/drive/My Drive/ULMFit-Czech/cs_wt_vocab.pkl\" models/\n",
        "!mkdir tmp\n",
        "!wget https://raw.githubusercontent.com/simecek/Czech-ULMFiT/master/language_model/spm.model\n",
        "!wget https://raw.githubusercontent.com/simecek/Czech-ULMFiT/master/language_model/spm.vocab \n",
        "!mv spm* tmp/"
      ],
      "execution_count": null,
      "outputs": [
        {
          "output_type": "stream",
          "text": [
            "--2020-07-13 15:48:38--  https://raw.githubusercontent.com/simecek/Czech-ULMFiT/master/language_model/spm.model\n",
            "Resolving raw.githubusercontent.com (raw.githubusercontent.com)... 151.101.0.133, 151.101.64.133, 151.101.128.133, ...\n",
            "Connecting to raw.githubusercontent.com (raw.githubusercontent.com)|151.101.0.133|:443... connected.\n",
            "HTTP request sent, awaiting response... 200 OK\n",
            "Length: 779876 (762K) [application/octet-stream]\n",
            "Saving to: ‘spm.model’\n",
            "\n",
            "\rspm.model             0%[                    ]       0  --.-KB/s               \rspm.model           100%[===================>] 761.60K  --.-KB/s    in 0.05s   \n",
            "\n",
            "2020-07-13 15:48:38 (13.8 MB/s) - ‘spm.model’ saved [779876/779876]\n",
            "\n",
            "--2020-07-13 15:48:40--  https://raw.githubusercontent.com/simecek/Czech-ULMFiT/master/language_model/spm.vocab\n",
            "Resolving raw.githubusercontent.com (raw.githubusercontent.com)... 151.101.0.133, 151.101.64.133, 151.101.128.133, ...\n",
            "Connecting to raw.githubusercontent.com (raw.githubusercontent.com)|151.101.0.133|:443... connected.\n",
            "HTTP request sent, awaiting response... 200 OK\n",
            "Length: 568615 (555K) [text/plain]\n",
            "Saving to: ‘spm.vocab’\n",
            "\n",
            "spm.vocab           100%[===================>] 555.29K  --.-KB/s    in 0.04s   \n",
            "\n",
            "2020-07-13 15:48:40 (14.3 MB/s) - ‘spm.vocab’ saved [568615/568615]\n",
            "\n"
          ],
          "name": "stdout"
        }
      ]
    },
    {
      "cell_type": "code",
      "metadata": {
        "id": "vGKQBbDW1unT",
        "colab_type": "code",
        "colab": {
          "base_uri": "https://localhost:8080/",
          "height": 198
        },
        "outputId": "8f5f4197-cfeb-49dd-b011-5e8d3f44e1bd"
      },
      "source": [
        "path = Path(\".\")\n",
        "pos = (path/'csfd/positive.txt').open().readlines()\n",
        "pos_df = pd.DataFrame({'text':pos})\n",
        "pos_df['pos'] = 1\n",
        "pos_df.head()"
      ],
      "execution_count": null,
      "outputs": [
        {
          "output_type": "execute_result",
          "data": {
            "text/html": [
              "<div>\n",
              "<style scoped>\n",
              "    .dataframe tbody tr th:only-of-type {\n",
              "        vertical-align: middle;\n",
              "    }\n",
              "\n",
              "    .dataframe tbody tr th {\n",
              "        vertical-align: top;\n",
              "    }\n",
              "\n",
              "    .dataframe thead th {\n",
              "        text-align: right;\n",
              "    }\n",
              "</style>\n",
              "<table border=\"1\" class=\"dataframe\">\n",
              "  <thead>\n",
              "    <tr style=\"text-align: right;\">\n",
              "      <th></th>\n",
              "      <th>text</th>\n",
              "      <th>pos</th>\n",
              "    </tr>\n",
              "  </thead>\n",
              "  <tbody>\n",
              "    <tr>\n",
              "      <th>0</th>\n",
              "      <td>Jako se mě líbila stejně jako jednička. Má sic...</td>\n",
              "      <td>1</td>\n",
              "    </tr>\n",
              "    <tr>\n",
              "      <th>1</th>\n",
              "      <td>Sice se rika ze dvojky pokulhavaji za jednicko...</td>\n",
              "      <td>1</td>\n",
              "    </tr>\n",
              "    <tr>\n",
              "      <th>2</th>\n",
              "      <td>Tenhle film můžu opravdu kdykoliv. A to nejen ...</td>\n",
              "      <td>1</td>\n",
              "    </tr>\n",
              "    <tr>\n",
              "      <th>3</th>\n",
              "      <td>velice povedená krimikomedie s plejádou skvělý...</td>\n",
              "      <td>1</td>\n",
              "    </tr>\n",
              "    <tr>\n",
              "      <th>4</th>\n",
              "      <td>Rok 1969. Při výročí invaze střílejí do lidí č...</td>\n",
              "      <td>1</td>\n",
              "    </tr>\n",
              "  </tbody>\n",
              "</table>\n",
              "</div>"
            ],
            "text/plain": [
              "                                                text  pos\n",
              "0  Jako se mě líbila stejně jako jednička. Má sic...    1\n",
              "1  Sice se rika ze dvojky pokulhavaji za jednicko...    1\n",
              "2  Tenhle film můžu opravdu kdykoliv. A to nejen ...    1\n",
              "3  velice povedená krimikomedie s plejádou skvělý...    1\n",
              "4  Rok 1969. Při výročí invaze střílejí do lidí č...    1"
            ]
          },
          "metadata": {
            "tags": []
          },
          "execution_count": 7
        }
      ]
    },
    {
      "cell_type": "code",
      "metadata": {
        "id": "EL3J_FLN3CSX",
        "colab_type": "code",
        "colab": {
          "base_uri": "https://localhost:8080/",
          "height": 198
        },
        "outputId": "24e396cf-24c0-417b-ae0f-6246585cdfc4"
      },
      "source": [
        "neg = (path/'csfd/negative.txt').open().readlines()\n",
        "neg_df = pd.DataFrame({'text':neg})\n",
        "neg_df['pos'] = 0\n",
        "neg_df.head()"
      ],
      "execution_count": null,
      "outputs": [
        {
          "output_type": "execute_result",
          "data": {
            "text/html": [
              "<div>\n",
              "<style scoped>\n",
              "    .dataframe tbody tr th:only-of-type {\n",
              "        vertical-align: middle;\n",
              "    }\n",
              "\n",
              "    .dataframe tbody tr th {\n",
              "        vertical-align: top;\n",
              "    }\n",
              "\n",
              "    .dataframe thead th {\n",
              "        text-align: right;\n",
              "    }\n",
              "</style>\n",
              "<table border=\"1\" class=\"dataframe\">\n",
              "  <thead>\n",
              "    <tr style=\"text-align: right;\">\n",
              "      <th></th>\n",
              "      <th>text</th>\n",
              "      <th>pos</th>\n",
              "    </tr>\n",
              "  </thead>\n",
              "  <tbody>\n",
              "    <tr>\n",
              "      <th>0</th>\n",
              "      <td>Tommy Lee Jonesovi jsou role jako je tato šity...</td>\n",
              "      <td>0</td>\n",
              "    </tr>\n",
              "    <tr>\n",
              "      <th>1</th>\n",
              "      <td>se stejnou upřímností a váhou jako je Pravdivá...</td>\n",
              "      <td>0</td>\n",
              "    </tr>\n",
              "    <tr>\n",
              "      <th>2</th>\n",
              "      <td>Fakt blbost. 1. díl byl ucházející a dalo se n...</td>\n",
              "      <td>0</td>\n",
              "    </tr>\n",
              "    <tr>\n",
              "      <th>3</th>\n",
              "      <td>Jako mladíkovi uprostřed normalizačních sedmde...</td>\n",
              "      <td>0</td>\n",
              "    </tr>\n",
              "    <tr>\n",
              "      <th>4</th>\n",
              "      <td>...aneb proč neudělat ze Tří mušketyrů sci-fi....</td>\n",
              "      <td>0</td>\n",
              "    </tr>\n",
              "  </tbody>\n",
              "</table>\n",
              "</div>"
            ],
            "text/plain": [
              "                                                text  pos\n",
              "0  Tommy Lee Jonesovi jsou role jako je tato šity...    0\n",
              "1  se stejnou upřímností a váhou jako je Pravdivá...    0\n",
              "2  Fakt blbost. 1. díl byl ucházející a dalo se n...    0\n",
              "3  Jako mladíkovi uprostřed normalizačních sedmde...    0\n",
              "4  ...aneb proč neudělat ze Tří mušketyrů sci-fi....    0"
            ]
          },
          "metadata": {
            "tags": []
          },
          "execution_count": 8
        }
      ]
    },
    {
      "cell_type": "code",
      "metadata": {
        "id": "dslwg17T3VjI",
        "colab_type": "code",
        "colab": {}
      },
      "source": [
        "df = pd.concat([pos_df,neg_df], sort=False)"
      ],
      "execution_count": null,
      "outputs": []
    },
    {
      "cell_type": "markdown",
      "metadata": {
        "id": "7v4-ZTRVgnsH",
        "colab_type": "text"
      },
      "source": [
        "## Finetuning"
      ]
    },
    {
      "cell_type": "code",
      "metadata": {
        "id": "Nmp6Lr4B3bT8",
        "colab_type": "code",
        "colab": {
          "base_uri": "https://localhost:8080/",
          "height": 17
        },
        "outputId": "65aa33bd-eba0-4130-edcc-66a74f108fee"
      },
      "source": [
        "bs=64\n",
        "data_lm = (TextList.from_df(df, path, cols='text', processor=SPProcessor.load(\".\"))\n",
        "    .split_by_rand_pct(0.1, seed=42)\n",
        "    .label_for_lm()           \n",
        "    .databunch(bs=bs, num_workers=1))\n",
        "data_lm.save('cs_clas_databunch')"
      ],
      "execution_count": null,
      "outputs": [
        {
          "output_type": "display_data",
          "data": {
            "text/html": [
              ""
            ],
            "text/plain": [
              "<IPython.core.display.HTML object>"
            ]
          },
          "metadata": {
            "tags": []
          }
        },
        {
          "output_type": "display_data",
          "data": {
            "text/html": [
              ""
            ],
            "text/plain": [
              "<IPython.core.display.HTML object>"
            ]
          },
          "metadata": {
            "tags": []
          }
        }
      ]
    },
    {
      "cell_type": "code",
      "metadata": {
        "id": "RLqdiCby3oEb",
        "colab_type": "code",
        "colab": {
          "base_uri": "https://localhost:8080/",
          "height": 302
        },
        "outputId": "f94459f5-3d02-4d22-d5d0-7d4a7cf11670"
      },
      "source": [
        "data_lm = load_data(path, 'cs_clas_databunch', bs=bs)\n",
        "data_lm.show_batch()"
      ],
      "execution_count": null,
      "outputs": [
        {
          "output_type": "display_data",
          "data": {
            "text/html": [
              "<table border=\"1\" class=\"dataframe\">\n",
              "  <thead>\n",
              "    <tr style=\"text-align: right;\">\n",
              "      <th>idx</th>\n",
              "      <th>text</th>\n",
              "    </tr>\n",
              "  </thead>\n",
              "  <tbody>\n",
              "    <tr>\n",
              "      <td>0</td>\n",
              "      <td>o . ▁a ▁o pet ▁nez klam ala ▁ perfekt ni ▁ muzik a ! ! ! ▁xxbos ▁xxmaj ▁ten hle ▁film ▁ m ů ž u ▁opravdu ▁kdykoliv . ▁a ▁to ▁nejen ▁díky ▁par fek tní mu , ▁ hlá ška mi ▁na bit ému ▁scénář i ▁a ▁herecký m ▁výkonů m ▁všech ▁z ů čas t ně ných ▁( hlavně ▁pak ▁trojice ▁xxmaj ▁troj an , ▁xxmaj ▁mit</td>\n",
              "    </tr>\n",
              "    <tr>\n",
              "      <td>1</td>\n",
              "      <td>. ▁xxbos ▁ špi čkový ▁komerční ▁ válečný ▁seriál , ▁který ▁mě ▁do ▁druhé ▁světové ▁války ▁v táhl ▁snad ▁nejlépe ▁ze ▁všech ▁filmů ▁i ▁seriál ů ▁vůbec . ▁xxmaj ▁osudy ▁dotyčný ch ▁vojáků ▁se ▁nevy poč it atel ně ▁kříží , ▁až ▁to ▁ve ▁ m ne ▁mnohdy ▁vyvolá valo ▁deprese ▁a ▁pocity ▁úzkost i . ▁xxmaj ▁všechny ▁příběhy , ▁zřejmě ▁měly ▁vz bud it ▁v ▁di vá cích ▁odraz</td>\n",
              "    </tr>\n",
              "    <tr>\n",
              "      <td>2</td>\n",
              "      <td>. . ▁xxbos ▁xxmaj ▁za ▁socialistické ho ▁xxmaj ▁československa ▁u ▁nás ▁běžel ▁tento ▁film ▁s ▁názvem ▁\" smrt ▁xxmaj ▁jo a ▁xxmaj ▁indián a \" ▁a ▁jako ▁deseti leté mu ▁kluk ovi ▁se ▁ mi ▁to ▁moc ▁líbil o . ▁xxmaj ▁je ▁to ▁vlastně ▁3. ▁díl ▁čtyř dílné ▁televizní ▁série ▁http : ▁/ ▁/ ▁www . ama zon . de ▁/ ▁ saw y ers - hu c kle berry</td>\n",
              "    </tr>\n",
              "    <tr>\n",
              "      <td>3</td>\n",
              "      <td>▁mc cl a ne ▁na ▁letišti ▁ve ▁xxmaj ▁washingtonu ▁čeká ▁na ▁svou ▁manželku . ▁xxmaj ▁nezná m ▁lepší ▁způsob ▁jak ▁s tráv it ▁to hle ▁par né ▁letní ▁odpoledne ▁(12 . 7. 200 6, ▁teplota ▁xxup ▁32 ` c ▁ve ▁stínu ) ▁než ▁ve ▁společnosti ▁xxmaj ▁johna ▁a ▁všeho schop ných ▁terorist ů . ▁xxmaj ▁bruce ▁xxmaj ▁will is ▁je ▁jako ▁mc cl a ne ▁prostě ▁bez c hyb ný</td>\n",
              "    </tr>\n",
              "    <tr>\n",
              "      <td>4</td>\n",
              "      <td>▁s ▁\" to o - big - to - fa il \" ▁banka mi ▁není ▁úplně ▁tak ▁od ▁věci ▁mys let ▁si , ▁že ▁je ▁možné ▁aby ▁nějaký ▁pri vat e ▁ e quit y ▁f und ▁měl ▁svojí ▁velikostí ▁ ambi ci ▁ovládat ▁svět ▁a ▁opravdu ▁tak ▁či nit . ▁xxmaj ▁někomu ▁může ▁v a dit ▁dlouhá ▁stop áž ▁a ▁ne - ma in stream ové ▁režisér ské ▁pojetí</td>\n",
              "    </tr>\n",
              "  </tbody>\n",
              "</table>"
            ],
            "text/plain": [
              "<IPython.core.display.HTML object>"
            ]
          },
          "metadata": {
            "tags": []
          }
        }
      ]
    },
    {
      "cell_type": "code",
      "metadata": {
        "id": "UNUm7YWn6QJQ",
        "colab_type": "code",
        "colab": {}
      },
      "source": [
        "lm_fns = ['./cs_wt', './cs_wt_vocab']\n",
        "learn_lm = language_model_learner(data_lm, AWD_LSTM, pretrained_fnames=lm_fns, drop_mult=1.0, wd=0.1)"
      ],
      "execution_count": null,
      "outputs": []
    },
    {
      "cell_type": "code",
      "metadata": {
        "id": "oCyNqRUsPFUI",
        "colab_type": "code",
        "colab": {
          "base_uri": "https://localhost:8080/",
          "height": 35
        },
        "outputId": "dda39be6-d722-4fad-f36d-93a23f5c0a8a"
      },
      "source": [
        "learn_lm.predict(\"Brno je krásné\", n_words=10, temperature=0.1)"
      ],
      "execution_count": null,
      "outputs": [
        {
          "output_type": "execute_result",
          "data": {
            "application/vnd.google.colaboratory.intrinsic": {
              "type": "string"
            },
            "text/plain": [
              "'Brno je krásné , ▁ skromn é ▁a ▁ skromn é ▁město ,'"
            ]
          },
          "metadata": {
            "tags": []
          },
          "execution_count": 13
        }
      ]
    },
    {
      "cell_type": "code",
      "metadata": {
        "id": "lqtx_EPEaN4_",
        "colab_type": "code",
        "colab": {}
      },
      "source": [
        "lr = 1e-3\n",
        "lr *= bs/48"
      ],
      "execution_count": null,
      "outputs": []
    },
    {
      "cell_type": "code",
      "metadata": {
        "id": "5lFy3-8n6uW6",
        "colab_type": "code",
        "colab": {
          "base_uri": "https://localhost:8080/",
          "height": 78
        },
        "outputId": "82fe3f1e-0358-44ac-a3eb-2f83f871ba2e"
      },
      "source": [
        "learn_lm.fit_one_cycle(1, lr*10, moms=(0.8,0.7))"
      ],
      "execution_count": null,
      "outputs": [
        {
          "output_type": "display_data",
          "data": {
            "text/html": [
              "<table border=\"1\" class=\"dataframe\">\n",
              "  <thead>\n",
              "    <tr style=\"text-align: left;\">\n",
              "      <th>epoch</th>\n",
              "      <th>train_loss</th>\n",
              "      <th>valid_loss</th>\n",
              "      <th>accuracy</th>\n",
              "      <th>time</th>\n",
              "    </tr>\n",
              "  </thead>\n",
              "  <tbody>\n",
              "    <tr>\n",
              "      <td>0</td>\n",
              "      <td>4.536963</td>\n",
              "      <td>4.583334</td>\n",
              "      <td>0.242857</td>\n",
              "      <td>02:47</td>\n",
              "    </tr>\n",
              "  </tbody>\n",
              "</table>"
            ],
            "text/plain": [
              "<IPython.core.display.HTML object>"
            ]
          },
          "metadata": {
            "tags": []
          }
        }
      ]
    },
    {
      "cell_type": "code",
      "metadata": {
        "id": "3Ljbf2Z7QCu0",
        "colab_type": "code",
        "colab": {
          "base_uri": "https://localhost:8080/",
          "height": 198
        },
        "outputId": "139afa0b-5c15-4f1f-dc22-df906271241c"
      },
      "source": [
        "learn_lm.unfreeze()\n",
        "learn_lm.fit_one_cycle(5, slice(lr/10,lr*10), moms=(0.8,0.7))"
      ],
      "execution_count": null,
      "outputs": [
        {
          "output_type": "display_data",
          "data": {
            "text/html": [
              "<table border=\"1\" class=\"dataframe\">\n",
              "  <thead>\n",
              "    <tr style=\"text-align: left;\">\n",
              "      <th>epoch</th>\n",
              "      <th>train_loss</th>\n",
              "      <th>valid_loss</th>\n",
              "      <th>accuracy</th>\n",
              "      <th>time</th>\n",
              "    </tr>\n",
              "  </thead>\n",
              "  <tbody>\n",
              "    <tr>\n",
              "      <td>0</td>\n",
              "      <td>4.379922</td>\n",
              "      <td>4.519659</td>\n",
              "      <td>0.271429</td>\n",
              "      <td>03:19</td>\n",
              "    </tr>\n",
              "    <tr>\n",
              "      <td>1</td>\n",
              "      <td>4.274517</td>\n",
              "      <td>4.487927</td>\n",
              "      <td>0.228571</td>\n",
              "      <td>03:18</td>\n",
              "    </tr>\n",
              "    <tr>\n",
              "      <td>2</td>\n",
              "      <td>4.132161</td>\n",
              "      <td>4.311273</td>\n",
              "      <td>0.257143</td>\n",
              "      <td>03:18</td>\n",
              "    </tr>\n",
              "    <tr>\n",
              "      <td>3</td>\n",
              "      <td>3.970825</td>\n",
              "      <td>4.363219</td>\n",
              "      <td>0.242857</td>\n",
              "      <td>03:18</td>\n",
              "    </tr>\n",
              "    <tr>\n",
              "      <td>4</td>\n",
              "      <td>3.819635</td>\n",
              "      <td>4.366664</td>\n",
              "      <td>0.257143</td>\n",
              "      <td>03:19</td>\n",
              "    </tr>\n",
              "  </tbody>\n",
              "</table>"
            ],
            "text/plain": [
              "<IPython.core.display.HTML object>"
            ]
          },
          "metadata": {
            "tags": []
          }
        }
      ]
    },
    {
      "cell_type": "code",
      "metadata": {
        "id": "3hsmnAcjRTi5",
        "colab_type": "code",
        "colab": {}
      },
      "source": [
        "lang = \"cs\"\n",
        "learn_lm.save(f'{lang}_csfd_2classes_fine_tuned')\n",
        "learn_lm.save_encoder(f'{lang}_csfd_2classes_fine_tuned_enc')"
      ],
      "execution_count": null,
      "outputs": []
    },
    {
      "cell_type": "markdown",
      "metadata": {
        "id": "K4YmDcjogXMK",
        "colab_type": "text"
      },
      "source": [
        "## Classifier"
      ]
    },
    {
      "cell_type": "code",
      "metadata": {
        "id": "rvK4ld4ITgT2",
        "colab_type": "code",
        "colab": {
          "base_uri": "https://localhost:8080/",
          "height": 17
        },
        "outputId": "aaecac54-7d63-4544-a423-16602469a9eb"
      },
      "source": [
        "path_clas = path/'csfd'\n",
        "bs=64\n",
        "\n",
        "data_clas = (TextList.from_df(df, path, cols='text', processor=SPProcessor.load(\".\"))\n",
        "    .split_by_rand_pct(0.1, seed=42)\n",
        "    .label_from_df(cols='pos')\n",
        "    .databunch(bs=bs, num_workers=1))"
      ],
      "execution_count": null,
      "outputs": [
        {
          "output_type": "display_data",
          "data": {
            "text/html": [
              ""
            ],
            "text/plain": [
              "<IPython.core.display.HTML object>"
            ]
          },
          "metadata": {
            "tags": []
          }
        },
        {
          "output_type": "display_data",
          "data": {
            "text/html": [
              ""
            ],
            "text/plain": [
              "<IPython.core.display.HTML object>"
            ]
          },
          "metadata": {
            "tags": []
          }
        }
      ]
    },
    {
      "cell_type": "code",
      "metadata": {
        "id": "3nL3hrCiToSV",
        "colab_type": "code",
        "colab": {}
      },
      "source": [
        "learn_c = text_classifier_learner(data_clas, AWD_LSTM, drop_mult=0.5, pretrained=False, wd=0.1).to_fp16()\n",
        "learn_c.load_encoder(f'{lang}_csfd_2classes_fine_tuned_enc')\n",
        "learn_c.freeze()"
      ],
      "execution_count": null,
      "outputs": []
    },
    {
      "cell_type": "code",
      "metadata": {
        "id": "mtOfZ5I5Ts7A",
        "colab_type": "code",
        "colab": {}
      },
      "source": [
        "lr = 2e-2\n",
        "lr *= bs/48"
      ],
      "execution_count": null,
      "outputs": []
    },
    {
      "cell_type": "code",
      "metadata": {
        "id": "CDr7646gT3oA",
        "colab_type": "code",
        "colab": {
          "base_uri": "https://localhost:8080/",
          "height": 138
        },
        "outputId": "c066c081-27e5-4a7f-f69f-274588428d76"
      },
      "source": [
        "learn_c.fit_one_cycle(3, lr, moms=(0.8,0.7))"
      ],
      "execution_count": null,
      "outputs": [
        {
          "output_type": "display_data",
          "data": {
            "text/html": [
              "<table border=\"1\" class=\"dataframe\">\n",
              "  <thead>\n",
              "    <tr style=\"text-align: left;\">\n",
              "      <th>epoch</th>\n",
              "      <th>train_loss</th>\n",
              "      <th>valid_loss</th>\n",
              "      <th>accuracy</th>\n",
              "      <th>time</th>\n",
              "    </tr>\n",
              "  </thead>\n",
              "  <tbody>\n",
              "    <tr>\n",
              "      <td>0</td>\n",
              "      <td>0.285737</td>\n",
              "      <td>0.230675</td>\n",
              "      <td>0.909916</td>\n",
              "      <td>01:08</td>\n",
              "    </tr>\n",
              "    <tr>\n",
              "      <td>1</td>\n",
              "      <td>0.281006</td>\n",
              "      <td>0.229818</td>\n",
              "      <td>0.906616</td>\n",
              "      <td>00:58</td>\n",
              "    </tr>\n",
              "    <tr>\n",
              "      <td>2</td>\n",
              "      <td>0.279418</td>\n",
              "      <td>0.217558</td>\n",
              "      <td>0.912391</td>\n",
              "      <td>01:04</td>\n",
              "    </tr>\n",
              "  </tbody>\n",
              "</table>"
            ],
            "text/plain": [
              "<IPython.core.display.HTML object>"
            ]
          },
          "metadata": {
            "tags": []
          }
        }
      ]
    },
    {
      "cell_type": "code",
      "metadata": {
        "id": "WEk8lVXtT9hQ",
        "colab_type": "code",
        "colab": {
          "base_uri": "https://localhost:8080/",
          "height": 138
        },
        "outputId": "0fdb08a8-4979-4d68-f7c7-b690ca163d6e"
      },
      "source": [
        "import warnings\n",
        "\n",
        "learn_c.freeze_to(-2)\n",
        "\n",
        "with warnings.catch_warnings(record=True):\n",
        "  learn_c.fit_one_cycle(3, slice(lr/2/(2.6**4),lr/2), moms=(0.8,0.7))"
      ],
      "execution_count": null,
      "outputs": [
        {
          "output_type": "display_data",
          "data": {
            "text/html": [
              "<table border=\"1\" class=\"dataframe\">\n",
              "  <thead>\n",
              "    <tr style=\"text-align: left;\">\n",
              "      <th>epoch</th>\n",
              "      <th>train_loss</th>\n",
              "      <th>valid_loss</th>\n",
              "      <th>accuracy</th>\n",
              "      <th>time</th>\n",
              "    </tr>\n",
              "  </thead>\n",
              "  <tbody>\n",
              "    <tr>\n",
              "      <td>0</td>\n",
              "      <td>0.237650</td>\n",
              "      <td>0.201547</td>\n",
              "      <td>0.919815</td>\n",
              "      <td>01:20</td>\n",
              "    </tr>\n",
              "    <tr>\n",
              "      <td>1</td>\n",
              "      <td>0.206178</td>\n",
              "      <td>0.173994</td>\n",
              "      <td>0.929220</td>\n",
              "      <td>01:12</td>\n",
              "    </tr>\n",
              "    <tr>\n",
              "      <td>2</td>\n",
              "      <td>0.168043</td>\n",
              "      <td>0.167931</td>\n",
              "      <td>0.935489</td>\n",
              "      <td>01:11</td>\n",
              "    </tr>\n",
              "  </tbody>\n",
              "</table>"
            ],
            "text/plain": [
              "<IPython.core.display.HTML object>"
            ]
          },
          "metadata": {
            "tags": []
          }
        }
      ]
    },
    {
      "cell_type": "code",
      "metadata": {
        "id": "zrqsfIzzT_kg",
        "colab_type": "code",
        "colab": {
          "base_uri": "https://localhost:8080/",
          "height": 138
        },
        "outputId": "c2e138bb-2ecb-4283-a95f-41f2a4198169"
      },
      "source": [
        "learn_c.freeze_to(-3)\n",
        "\n",
        "with warnings.catch_warnings(record=True):\n",
        "  learn_c.fit_one_cycle(3, slice(lr/4/(2.6**4),lr/4), moms=(0.8,0.7))"
      ],
      "execution_count": null,
      "outputs": [
        {
          "output_type": "display_data",
          "data": {
            "text/html": [
              "<table border=\"1\" class=\"dataframe\">\n",
              "  <thead>\n",
              "    <tr style=\"text-align: left;\">\n",
              "      <th>epoch</th>\n",
              "      <th>train_loss</th>\n",
              "      <th>valid_loss</th>\n",
              "      <th>accuracy</th>\n",
              "      <th>time</th>\n",
              "    </tr>\n",
              "  </thead>\n",
              "  <tbody>\n",
              "    <tr>\n",
              "      <td>0</td>\n",
              "      <td>0.203157</td>\n",
              "      <td>0.212193</td>\n",
              "      <td>0.916515</td>\n",
              "      <td>01:53</td>\n",
              "    </tr>\n",
              "    <tr>\n",
              "      <td>1</td>\n",
              "      <td>0.154562</td>\n",
              "      <td>0.150394</td>\n",
              "      <td>0.939614</td>\n",
              "      <td>02:16</td>\n",
              "    </tr>\n",
              "    <tr>\n",
              "      <td>2</td>\n",
              "      <td>0.086916</td>\n",
              "      <td>0.153920</td>\n",
              "      <td>0.945224</td>\n",
              "      <td>02:23</td>\n",
              "    </tr>\n",
              "  </tbody>\n",
              "</table>"
            ],
            "text/plain": [
              "<IPython.core.display.HTML object>"
            ]
          },
          "metadata": {
            "tags": []
          }
        }
      ]
    },
    {
      "cell_type": "code",
      "metadata": {
        "id": "BNd1qd0wwGZC",
        "colab_type": "code",
        "colab": {}
      },
      "source": [
        "learn_c.save('/content/drive/My Drive/ULMFit-Czech/cs_csfd_2classes_945')\n",
        "learn_c.export('/content/drive/My Drive/ULMFit-Czech/cs_csfd_2classes_945.pkl')\n",
        "learn_c.data.vocab.save('/content/drive/My Drive/ULMFit-Czech/cs_csfd_2classes_945_vocab.pkl')"
      ],
      "execution_count": null,
      "outputs": []
    }
  ]
}