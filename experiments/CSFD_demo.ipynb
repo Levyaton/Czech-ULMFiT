{
  "nbformat": 4,
  "nbformat_minor": 0,
  "metadata": {
    "colab": {
      "name": "CSFD_demo.ipynb",
      "provenance": [],
      "collapsed_sections": [
        "GNcwrTQ2EzEr"
      ],
      "mount_file_id": "1IAWBejZWvXDUirxA8RpBlV1sH3Mv8Uka",
      "authorship_tag": "ABX9TyMAiU7QA9jd9Vifu0eq+Djk",
      "include_colab_link": true
    },
    "kernelspec": {
      "name": "python3",
      "display_name": "Python 3"
    },
    "accelerator": "GPU"
  },
  "cells": [
    {
      "cell_type": "markdown",
      "metadata": {
        "id": "view-in-github",
        "colab_type": "text"
      },
      "source": [
        "<a href=\"https://colab.research.google.com/github/simecek/Czech-ULMFiT/blob/master/experiments/CSFD_demo.ipynb\" target=\"_parent\"><img src=\"https://colab.research.google.com/assets/colab-badge.svg\" alt=\"Open In Colab\"/></a>"
      ]
    },
    {
      "cell_type": "markdown",
      "metadata": {
        "id": "GNcwrTQ2EzEr",
        "colab_type": "text"
      },
      "source": [
        "## Setup"
      ]
    },
    {
      "cell_type": "code",
      "metadata": {
        "id": "P2VbJAY3CAMG",
        "colab_type": "code",
        "colab": {
          "base_uri": "https://localhost:8080/",
          "height": 54
        },
        "outputId": "c8675996-70a2-4006-ca2e-6a6b25421556"
      },
      "source": [
        "!pip install sentencepiece googledrivedownloader"
      ],
      "execution_count": null,
      "outputs": [
        {
          "output_type": "stream",
          "text": [
            "Requirement already satisfied: sentencepiece in /usr/local/lib/python3.6/dist-packages (0.1.91)\n",
            "Requirement already satisfied: googledrivedownloader in /usr/local/lib/python3.6/dist-packages (0.4)\n"
          ],
          "name": "stdout"
        }
      ]
    },
    {
      "cell_type": "code",
      "metadata": {
        "id": "9-r3fTjHCBP5",
        "colab_type": "code",
        "colab": {}
      },
      "source": [
        "from fastai import *\n",
        "from fastai.text import *"
      ],
      "execution_count": null,
      "outputs": []
    },
    {
      "cell_type": "code",
      "metadata": {
        "id": "wjDKicfBD2TM",
        "colab_type": "code",
        "colab": {
          "base_uri": "https://localhost:8080/",
          "height": 417
        },
        "outputId": "e6160aa6-309d-40ac-9a3d-f7f9398f2b94"
      },
      "source": [
        "# get encoder\n",
        "!mkdir tmp\n",
        "!wget https://raw.githubusercontent.com/simecek/Czech-ULMFiT/master/language_model/spm.model\n",
        "!wget https://raw.githubusercontent.com/simecek/Czech-ULMFiT/master/language_model/spm.vocab \n",
        "!mv spm* tmp/"
      ],
      "execution_count": null,
      "outputs": [
        {
          "output_type": "stream",
          "text": [
            "--2020-07-13 19:20:48--  https://raw.githubusercontent.com/simecek/Czech-ULMFiT/master/language_model/spm.model\n",
            "Resolving raw.githubusercontent.com (raw.githubusercontent.com)... 151.101.0.133, 151.101.64.133, 151.101.128.133, ...\n",
            "Connecting to raw.githubusercontent.com (raw.githubusercontent.com)|151.101.0.133|:443... connected.\n",
            "HTTP request sent, awaiting response... 200 OK\n",
            "Length: 779876 (762K) [application/octet-stream]\n",
            "Saving to: ‘spm.model’\n",
            "\n",
            "spm.model           100%[===================>] 761.60K  --.-KB/s    in 0.08s   \n",
            "\n",
            "2020-07-13 19:20:50 (9.15 MB/s) - ‘spm.model’ saved [779876/779876]\n",
            "\n",
            "--2020-07-13 19:20:51--  https://raw.githubusercontent.com/simecek/Czech-ULMFiT/master/language_model/spm.vocab\n",
            "Resolving raw.githubusercontent.com (raw.githubusercontent.com)... 151.101.0.133, 151.101.64.133, 151.101.128.133, ...\n",
            "Connecting to raw.githubusercontent.com (raw.githubusercontent.com)|151.101.0.133|:443... connected.\n",
            "HTTP request sent, awaiting response... 200 OK\n",
            "Length: 568615 (555K) [text/plain]\n",
            "Saving to: ‘spm.vocab’\n",
            "\n",
            "spm.vocab           100%[===================>] 555.29K  --.-KB/s    in 0.07s   \n",
            "\n",
            "2020-07-13 19:20:51 (7.98 MB/s) - ‘spm.vocab’ saved [568615/568615]\n",
            "\n"
          ],
          "name": "stdout"
        }
      ]
    },
    {
      "cell_type": "code",
      "metadata": {
        "id": "n0VailLen4XJ",
        "colab_type": "code",
        "colab": {
          "base_uri": "https://localhost:8080/",
          "height": 35
        },
        "outputId": "0f9cdc52-69e8-419d-bdbe-813fa9351bab"
      },
      "source": [
        "from google_drive_downloader import GoogleDriveDownloader as gdd\n",
        "\n",
        "gdd.download_file_from_google_drive(file_id='1YkWI4TWioeuMVXxTUGn5UDsyl_XWjIh1',\n",
        "                                    dest_path='./cs_csfd_2classes_945.pkl')"
      ],
      "execution_count": null,
      "outputs": [
        {
          "output_type": "stream",
          "text": [
            "Downloading 1YkWI4TWioeuMVXxTUGn5UDsyl_XWjIh1 into ./cs_csfd_2classes_945.pkl... Done.\n"
          ],
          "name": "stdout"
        }
      ]
    },
    {
      "cell_type": "markdown",
      "metadata": {
        "id": "FLUXHHfKE3Q7",
        "colab_type": "text"
      },
      "source": [
        "## Model & Inference\n",
        "\n",
        "The first cell loads the model. The others show the usage."
      ]
    },
    {
      "cell_type": "code",
      "metadata": {
        "id": "ZNMrP9grCkZh",
        "colab_type": "code",
        "colab": {}
      },
      "source": [
        "sentiment_classifier = load_learner(path='.',\n",
        "                                    file='cs_csfd_2classes_945.pkl').to_fp32()"
      ],
      "execution_count": null,
      "outputs": []
    },
    {
      "cell_type": "code",
      "metadata": {
        "id": "ACQzgN9yDQg9",
        "colab_type": "code",
        "colab": {
          "base_uri": "https://localhost:8080/",
          "height": 35
        },
        "outputId": "0d1b1615-35aa-40a7-ea31-19607e76f408"
      },
      "source": [
        "sentiment_classifier.predict('Nejlepší film mého života')"
      ],
      "execution_count": null,
      "outputs": [
        {
          "output_type": "execute_result",
          "data": {
            "text/plain": [
              "(Category tensor(1), tensor(1), tensor([9.9923e-06, 9.9999e-01]))"
            ]
          },
          "metadata": {
            "tags": []
          },
          "execution_count": 10
        }
      ]
    },
    {
      "cell_type": "code",
      "metadata": {
        "id": "QBYjkgz-DVGM",
        "colab_type": "code",
        "colab": {
          "base_uri": "https://localhost:8080/",
          "height": 35
        },
        "outputId": "0d1cf315-8ed2-450c-b4fe-430720eb9fae"
      },
      "source": [
        "sentiment_classifier.predict('Naprostej propadák')"
      ],
      "execution_count": null,
      "outputs": [
        {
          "output_type": "execute_result",
          "data": {
            "text/plain": [
              "(Category tensor(0), tensor(0), tensor([0.9988, 0.0012]))"
            ]
          },
          "metadata": {
            "tags": []
          },
          "execution_count": 11
        }
      ]
    },
    {
      "cell_type": "code",
      "metadata": {
        "id": "vqNW8YvwGdgQ",
        "colab_type": "code",
        "colab": {
          "base_uri": "https://localhost:8080/",
          "height": 35
        },
        "outputId": "2a73c588-ea29-4f7a-9c0b-9d5120d6549a"
      },
      "source": [
        "review_4star = \"Filmů o důležitých nebo zajímavých osobnostech českých dějin bylo v posledních pár letech natočeno vícero. A prakticky bez výjimky jsem měl na konci ambivalentní pocit. Na všech byl znát potenciál, každý měl něco výjimečného a vždycky jsem si byl jistý, že zážitku něco chybí, případně mohl být výsledek mnohem lepší. To neplatí o Lídě Baarové, ta je špatná celkově. Hovory mají perfektní námět, skvělou strukturu vyprávění a jakkoliv překvapivě se mi původně Budař do role nepozdával, i výborné herce. Tentokrát nemůžu zkritizovat ani scénář. Ano, konverzace občas působí podivně šroubovaně a na řadě míst je znát, že herci jen recitují naučený text a s řečeným se neztotožňují. Huba se s tím popral mnohem lépe, ale bohužel ani z něj jsem necítil prožitek. Na druhou stranu dialogy nepůsobí banálně a v jejich slovech je toho hodně k přemýšlení. Možná jsem od filmu čekal ostřejší konflikt, možná větší emoce, nebo větší přirozenost. Za shlédnutí film určitě stojí. Minimálně pro toho úplně jiného Masaryka. I když, kdo zná ho zná víc, než z názvu náměstí, pár soch, záběrů z Hledání ztraceného času či několika donekonečna opakovaných citátů a tradovaných historek?\"\n",
        "sentiment_classifier.predict(review_4star)"
      ],
      "execution_count": null,
      "outputs": [
        {
          "output_type": "execute_result",
          "data": {
            "text/plain": [
              "(Category tensor(1), tensor(1), tensor([0.0020, 0.9980]))"
            ]
          },
          "metadata": {
            "tags": []
          },
          "execution_count": 12
        }
      ]
    },
    {
      "cell_type": "code",
      "metadata": {
        "id": "Eq7W29siGnOm",
        "colab_type": "code",
        "colab": {
          "base_uri": "https://localhost:8080/",
          "height": 35
        },
        "outputId": "132e3466-0a7b-42e5-8f7f-7c6caae27066"
      },
      "source": [
        "review_2star = \"Zbláznili se? Nedegraduju nijak Hubovy a Budařovy výkony (klobouk dolu), ale opravdu si někdo myslí (Kosatík nebo kdo psal dialogy), že se dva vzdělaní muži své doby budou bavit takto popisně jako debilové (aby se divák nějak proboha dozvěděl, co se za jejich života stalo)? Viz popis Rašína, Švehly a čehokoliv ze života Masaryka. Už jsem jen čekal, kdy TGM zahlásí: Já jsem se narodil v roce 1850, pane Čapku /aby věděl. Komorní dialog bez jakéhokoliv děje by nevadil, usnout se u toho nedalo ani ve tři v noci, ale ta otrocká snaha popsat historické události i lidem kteří o nich vědí houby, to bolí. Špatný nápad, špatné provedení. Za mě ani náhodou.\"\n",
        "sentiment_classifier.predict(review_2star)"
      ],
      "execution_count": null,
      "outputs": [
        {
          "output_type": "execute_result",
          "data": {
            "text/plain": [
              "(Category tensor(0), tensor(0), tensor([9.9984e-01, 1.5757e-04]))"
            ]
          },
          "metadata": {
            "tags": []
          },
          "execution_count": 13
        }
      ]
    }
  ]
}